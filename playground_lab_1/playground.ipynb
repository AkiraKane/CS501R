{
 "cells": [
  {
   "cell_type": "code",
   "execution_count": 13,
   "metadata": {
    "collapsed": false
   },
   "outputs": [
    {
     "data": {
      "image/png": "[encoded data removed]",
      "text/plain": [
       "<IPython.core.display.Image object>"
      ]
     },
     "metadata": {},
     "output_type": "display_data"
    }
   ],
   "source": [
    "from pdb import set_trace as debugger\n",
    "import cairo \n",
    "import numpy\n",
    "import math\n",
    "\n",
    "def draw_gradient(cr):\n",
    "    pat = cairo.LinearGradient(0.2, 0.35, 0.0, 1.0)\n",
    "    i = 0.05    \n",
    "    while i < 0.95:\n",
    "        x = numpy.random.poisson(lam=i*100, size=4)\n",
    "        pat.add_color_stop_rgba(x[0], x[1], x[2], x[3], i)\n",
    "        i = i + 0.025\n",
    "    cr.rectangle(0, 0, 1, 1) # Rectangle(x0, y0, x1, y1)\n",
    "    cr.set_source(pat)\n",
    "    cr.fill()\n",
    "\n",
    "        \n",
    "# A simple function to display an image in an ipython notebook \n",
    "def nbimage( data ):\n",
    "    from IPython.display import display, Image \n",
    "    from PIL.Image import fromarray\n",
    "    from StringIO import StringIO\n",
    "    s = StringIO()\n",
    "    fromarray( data ).save( s, 'png' ) \n",
    "    display( Image( s.getvalue() ) )\n",
    "\n",
    "WIDTH = 512 \n",
    "HEIGHT = 288\n",
    "# this is a numpy buffer to hold the image data\n",
    "data = numpy.zeros((HEIGHT,WIDTH,4), dtype=numpy.uint8)\n",
    "# this creates a cairo context based on the numpy buffer\n",
    "ims = cairo.ImageSurface.create_for_data( data, cairo.FORMAT_ARGB32, WIDTH, HEIGHT ) \n",
    "cr = cairo.Context( ims )\n",
    "\n",
    "# Normalize canvas\n",
    "cr.scale(WIDTH, HEIGHT)\n",
    "\n",
    "draw_gradient(cr)\n",
    "\n",
    "cr.translate(0.1, 0.1) # Changing the current transformation matrix\n",
    "\n",
    "cr.move_to(0, 0)\n",
    "cr.arc(0.2, 0.1, 0.1, -math.pi/2, 0) # Arc(cx, cy, radius, start_angle, stop_angle)\n",
    "cr.line_to(0.5, 0.1) # Line to (x,y)\n",
    "cr.curve_to(0.5, 0.2, 0.5, 0.4, 0.2, 0.8) # Curve(x1, y1, x2, y2, x3, y3)\n",
    "cr.close_path()\n",
    "\n",
    "cr.set_source_rgb(0.3, 0.2, 0.5) # Solid color\n",
    "cr.set_line_width(0.02)\n",
    "cr.stroke()\n",
    "\n",
    "# display the image \n",
    "nbimage( data )"
   ]
  },
  {
   "cell_type": "code",
   "execution_count": null,
   "metadata": {
    "collapsed": true
   },
   "outputs": [],
   "source": []
  }
 ],
 "metadata": {
  "anaconda-cloud": {},
  "kernelspec": {
   "display_name": "Python [Root]",
   "language": "python",
   "name": "Python [Root]"
  },
  "language_info": {
   "codemirror_mode": {
    "name": "ipython",
    "version": 2
   },
   "file_extension": ".py",
   "mimetype": "text/x-python",
   "name": "python",
   "nbconvert_exporter": "python",
   "pygments_lexer": "ipython2",
   "version": "2.7.12"
  }
 },
 "nbformat": 4,
 "nbformat_minor": 0
}
