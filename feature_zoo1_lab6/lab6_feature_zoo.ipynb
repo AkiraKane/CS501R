{
 "cells": [
  {
   "cell_type": "markdown",
   "metadata": {},
   "source": [
    "#### Author: Artem Golotin\n",
    "##### Lab 6"
   ]
  },
  {
   "cell_type": "code",
   "execution_count": 1,
   "metadata": {
    "collapsed": true
   },
   "outputs": [],
   "source": [
    "import tensorflow as tf\n",
    "import numpy as np\n",
    "from tqdm import tqdm\n",
    "\n",
    "from tensorflow.examples.tutorials.mnist import input_data"
   ]
  },
  {
   "cell_type": "code",
   "execution_count": 2,
   "metadata": {
    "collapsed": true
   },
   "outputs": [],
   "source": [
    "# Define global functions\n",
    "def weight_variable(shape):\n",
    "    initial = tf.truncated_normal( shape, stddev=0.1 )\n",
    "    return tf.Variable( initial )\n",
    "\n",
    "def bias_variable(shape):\n",
    "    initial = tf.constant( 0.1, shape=shape )\n",
    "    return tf.Variable(initial)\n"
   ]
  },
  {
   "cell_type": "code",
   "execution_count": 3,
   "metadata": {
    "collapsed": false
   },
   "outputs": [
    {
     "name": "stdout",
     "output_type": "stream",
     "text": [
      "Extracting MNIST_data/train-images-idx3-ubyte.gz\n",
      "Extracting MNIST_data/train-labels-idx1-ubyte.gz\n",
      "Extracting MNIST_data/t10k-images-idx3-ubyte.gz\n",
      "Extracting MNIST_data/t10k-labels-idx1-ubyte.gz\n"
     ]
    }
   ],
   "source": [
    "# Define data that will be used globally\n",
    "mnist = input_data.read_data_sets( \"MNIST_data/\", one_hot=True )\n",
    "\n",
    "images = mnist.train.images[ 0:1000, : ]\n",
    "labels = mnist.train.labels[ 0:1000, : ]\n"
   ]
  },
  {
   "cell_type": "code",
   "execution_count": 4,
   "metadata": {
    "collapsed": false
   },
   "outputs": [],
   "source": [
    "# Declare plotting function\n",
    "import matplotlib.pyplot as plt\n",
    "\n",
    "def plot_accuracy(baseline, x, train_y, test_y, title=None, xlabel=\"Keep Probability\"):\n",
    "    plt.plot(x, train_y, label='Training Accuracy')\n",
    "    plt.plot(x, test_y, label='Testing Accuracy')\n",
    "    plt.axhline(y=baseline, color='r', ls='dashed', label='Baseline')\n",
    "    plt.title(title)\n",
    "    plt.xlabel(xlabel)\n",
    "    plt.ylabel(\"Classification Accuracy (%)\")\n",
    "    plt.legend(loc='best')\n",
    "    plt.show()"
   ]
  },
  {
   "cell_type": "markdown",
   "metadata": {},
   "source": [
    "###### Baseline"
   ]
  },
  {
   "cell_type": "code",
   "execution_count": 6,
   "metadata": {
    "collapsed": false
   },
   "outputs": [
    {
     "name": "stderr",
     "output_type": "stream",
     "text": [
      "100%|██████████| 150/150 [01:35<00:00,  1.96it/s]\n"
     ]
    },
    {
     "name": "stdout",
     "output_type": "stream",
     "text": [
      "BASELINE ACCURACY 0.85\n"
     ]
    }
   ],
   "source": [
    "# Declare computation graph for baseline\n",
    "def run_baseline():\n",
    "    y_ = tf.placeholder( tf.float32, shape=[None, 10], name=\"y_\" )\n",
    "    x = tf.placeholder( tf.float32, [None, 784], name=\"x\" )\n",
    "\n",
    "    W1 = weight_variable([784, 500])\n",
    "    b1 = bias_variable([500])\n",
    "    h1 = tf.nn.relu(tf.matmul( x, W1 ) + b1)\n",
    "\n",
    "    W2 = weight_variable([500, 500])\n",
    "    b2 = bias_variable([500])\n",
    "    h2 = tf.nn.relu(tf.matmul( h1, W2 ) + b2)\n",
    "\n",
    "    W3 = weight_variable([500, 1000])\n",
    "    b3 = bias_variable([1000])\n",
    "    h3 = tf.nn.relu(tf.matmul( h2, W3 ) + b3)\n",
    "\n",
    "    W4 = weight_variable([1000, 10])\n",
    "    b4 = bias_variable([10])\n",
    "    y_hat = tf.nn.softmax(tf.matmul(h3, W4) + b4)\n",
    "\n",
    "    cross_entropy = tf.reduce_mean(-tf.reduce_sum(y_ * tf.log(y_hat), reduction_indices=[1]))\n",
    "    xent_summary = tf.scalar_summary( 'xent', cross_entropy )\n",
    "\n",
    "    correct_prediction = tf.equal(tf.argmax(y_hat,1), tf.argmax(y_,1))\n",
    "    accuracy = tf.reduce_mean(tf.cast(correct_prediction, tf.float32))\n",
    "    acc_summary = tf.scalar_summary( 'accuracy', accuracy )\n",
    "\n",
    "    train_step = tf.train.AdamOptimizer(1e-4).minimize(cross_entropy)\n",
    "\n",
    "    #\n",
    "    # ==================================================================\n",
    "    #\n",
    "\n",
    "    sess = tf.Session()\n",
    "    sess.run( tf.initialize_all_variables() )\n",
    "\n",
    "    #\n",
    "    # ==================================================================\n",
    "    #\n",
    "\n",
    "    for i in tqdm(range(150)):\n",
    "        sess.run(train_step, feed_dict={ x: images, y_: labels })\n",
    "\n",
    "    return sess.run( accuracy, feed_dict={ x: mnist.test.images, y_: mnist.test.labels } )\n",
    "\n",
    "BASELINE_ACC = run_baseline()\n",
    "print( \"BASELINE ACCURACY %g\" % BASELINE_ACC )"
   ]
  },
  {
   "cell_type": "markdown",
   "metadata": {},
   "source": [
    "###### Dropout"
   ]
  },
  {
   "cell_type": "code",
   "execution_count": 7,
   "metadata": {
    "collapsed": false
   },
   "outputs": [
    {
     "name": "stderr",
     "output_type": "stream",
     "text": [
      "100%|██████████| 150/150 [01:22<00:00,  1.48it/s]\n",
      "100%|██████████| 150/150 [01:26<00:00,  2.09it/s]\n",
      "100%|██████████| 150/150 [01:11<00:00,  2.10it/s]\n",
      "100%|██████████| 150/150 [01:13<00:00,  2.02it/s]\n",
      "100%|██████████| 150/150 [01:11<00:00,  2.15it/s]\n"
     ]
    }
   ],
   "source": [
    "##### Reset the graph #####\n",
    "tf.reset_default_graph()\n",
    "\n",
    "keep_probs = [ 0.1, 0.25, 0.5, 0.75, 1.0 ]\n",
    "train_acc = []\n",
    "test_acc = []\n",
    "\n",
    "def run_dropout():\n",
    "    # Declare new computation graph\n",
    "    y_ = tf.placeholder( tf.float32, shape=[None, 10], name=\"y_\" )\n",
    "    x = tf.placeholder( tf.float32, [None, 784], name=\"x\" )\n",
    "    keep_probability = tf.placeholder(tf.float32)\n",
    "    scale = tf.placeholder(tf.float32)\n",
    "\n",
    "    ####### H1 #########\n",
    "    W1 = weight_variable([784, 500])\n",
    "    b1 = bias_variable([500])\n",
    "    H1 = tf.nn.relu(tf.matmul( x, W1 ) + b1)\n",
    "    # Dropout\n",
    "    U1 = tf.to_float(tf.less(tf.random_uniform(tf.shape(H1)), keep_probability))\n",
    "    h1 = tf.mul(H1, U1)\n",
    "\n",
    "    ####### H2 #########\n",
    "    W2 = weight_variable([500, 500])\n",
    "    b2 = bias_variable([500])\n",
    "    H2 = tf.nn.relu(tf.matmul( h1, W2 ) + b2)\n",
    "    # Dropout\n",
    "    U2 = tf.to_float(tf.less(tf.random_uniform(tf.shape(H2)), keep_probability))\n",
    "    h2 = tf.mul(H2, U2)\n",
    "\n",
    "\n",
    "    ####### H3 #########\n",
    "    W3 = weight_variable([500, 1000])\n",
    "    b3 = bias_variable([1000])\n",
    "    H3 = tf.nn.relu(tf.matmul( h2, W3 ) + b3)\n",
    "    # Dropout\n",
    "    U3 = tf.to_float(tf.less(tf.random_uniform(tf.shape(H3)), keep_probability))\n",
    "    h3 = tf.mul(H3, U3)\n",
    "\n",
    "    W4 = weight_variable([1000, 10])\n",
    "    b4 = bias_variable([10])\n",
    "    # Scale the activations by keep_prob\n",
    "    y_hat = tf.mul(tf.nn.softmax(tf.matmul(h3, W4) + b4), scale)\n",
    "\n",
    "\n",
    "    cross_entropy = tf.reduce_mean(-tf.reduce_sum(y_ * tf.log(y_hat), reduction_indices=[1]))\n",
    "    xent_summary = tf.scalar_summary( 'xent', cross_entropy )\n",
    "\n",
    "    correct_prediction = tf.equal(tf.argmax(y_hat,1), tf.argmax(y_,1))\n",
    "    accuracy = tf.reduce_mean(tf.cast(correct_prediction, tf.float32))\n",
    "    acc_summary = tf.scalar_summary( 'accuracy', accuracy )\n",
    "\n",
    "    train_step = tf.train.AdamOptimizer(1e-4).minimize(cross_entropy)\n",
    "\n",
    "    #\n",
    "    # ==================================================================\n",
    "    #\n",
    "\n",
    "    sess = tf.Session()\n",
    "    for p in keep_probs:\n",
    "        # I checked, this will for sure reinitilize all of the tensors to entirely new values\n",
    "        sess.run(tf.initialize_all_variables())\n",
    "        for _ in tqdm(range(150)):\n",
    "            sess.run(train_step, feed_dict={ x: images, y_: labels, keep_probability: p, scale: p } )\n",
    "\n",
    "        t_acc = sess.run(accuracy, feed_dict={ x: images, y_: labels, keep_probability: 1.0, scale: p })\n",
    "        final_acc = sess.run( accuracy, feed_dict={ x: mnist.test.images, y_: mnist.test.labels, keep_probability: 1.0, scale: p } )\n",
    "        train_acc.append(t_acc)\n",
    "        test_acc.append(final_acc)\n",
    "        \n",
    "run_dropout()"
   ]
  },
  {
   "cell_type": "code",
   "execution_count": 8,
   "metadata": {
    "collapsed": false
   },
   "outputs": [
    {
     "data": {
      "image/png": "[encoded data removed]",
      "text/plain": [
       "<matplotlib.figure.Figure at 0x123e35e50>"
      ]
     },
     "metadata": {},
     "output_type": "display_data"
    }
   ],
   "source": [
    "%matplotlib inline\n",
    "plot_accuracy(BASELINE_ACC, keep_probs, train_acc, test_acc, title=\"Dropout Plot\")"
   ]
  },
  {
   "cell_type": "markdown",
   "metadata": {},
   "source": [
    "###### Dropconnect"
   ]
  },
  {
   "cell_type": "code",
   "execution_count": 12,
   "metadata": {
    "collapsed": false
   },
   "outputs": [
    {
     "name": "stderr",
     "output_type": "stream",
     "text": [
      "100%|██████████| 1500/1500 [10:58<00:00,  2.40it/s]\n",
      "100%|██████████| 1500/1500 [10:59<00:00,  2.33it/s]\n",
      "100%|██████████| 1500/1500 [12:30<00:00,  2.03it/s]\n",
      "100%|██████████| 1500/1500 [15:24<00:00,  1.82it/s]\n",
      "100%|██████████| 1500/1500 [13:26<00:00,  1.79it/s]\n"
     ]
    }
   ],
   "source": [
    "##### Reset the graph #####\n",
    "tf.reset_default_graph()\n",
    "\n",
    "keep_probs = [ 0.1, 0.25, 0.5, 0.75, 1.0 ]\n",
    "\n",
    "def run_dropconnect():\n",
    "    train_acc, test_acc = [], []\n",
    "    # Declare new computation graph\n",
    "    y_ = tf.placeholder( tf.float32, shape=[None, 10], name=\"y_\" )\n",
    "    x = tf.placeholder( tf.float32, [None, 784], name=\"x\" )\n",
    "    keep_probability = tf.placeholder(tf.float32)\n",
    "    scale = tf.placeholder(tf.float32)\n",
    "\n",
    "    ####### H1 #########\n",
    "    W1 = weight_variable([784, 500])\n",
    "    b1 = bias_variable([500])\n",
    "    # Dropconnect\n",
    "    w_M1 = tf.to_float(tf.less(tf.random_uniform(tf.shape(W1)), keep_probability))\n",
    "    b_M1 = tf.to_float(tf.less(tf.random_uniform(tf.shape(b1)), keep_probability))\n",
    "    W1_prime = tf.mul(W1, w_M1)\n",
    "    b1_prime = tf.mul(b1, b_M1)\n",
    "    # Nonlinearity\n",
    "    h1 = tf.nn.relu(tf.matmul( x, W1_prime ) + b1_prime)\n",
    "\n",
    "    ####### H2 #########\n",
    "    W2 = weight_variable([500, 500])\n",
    "    b2 = bias_variable([500])\n",
    "    # Dropconnect\n",
    "    w_M2 = tf.to_float(tf.less(tf.random_uniform(tf.shape(W2)), keep_probability))\n",
    "    b_M2 = tf.to_float(tf.less(tf.random_uniform(tf.shape(b2)), keep_probability))\n",
    "    W2_prime = tf.mul(W2, w_M2)\n",
    "    b2_prime = tf.mul(b2, b_M2)\n",
    "    # Nonlinearity\n",
    "    h2 = tf.nn.relu(tf.matmul( h1, W2_prime ) + b2_prime)\n",
    "\n",
    "    ####### H3 #########\n",
    "    W3 = weight_variable([500, 1000])\n",
    "    b3 = bias_variable([1000])\n",
    "    # Dropconnect\n",
    "    w_M3 = tf.to_float(tf.less(tf.random_uniform(tf.shape(W3)), keep_probability))\n",
    "    b_M3 = tf.to_float(tf.less(tf.random_uniform(tf.shape(b3)), keep_probability))\n",
    "    W3_prime = tf.mul(W3, w_M3)\n",
    "    b3_prime = tf.mul(b3, b_M3)\n",
    "    # Nonlinearity\n",
    "    h3 = tf.nn.relu(tf.matmul( h2, W3_prime ) + b3_prime)\n",
    "\n",
    "    W4 = weight_variable([1000, 10])\n",
    "    b4 = bias_variable([10])\n",
    "    # Scale the activations back by scale variable \n",
    "    y_hat = tf.mul(tf.nn.softmax(tf.matmul(h3, W4) + b4), scale)\n",
    "\n",
    "    cross_entropy = tf.reduce_mean(-tf.reduce_sum(y_ * tf.log(y_hat), reduction_indices=[1]))\n",
    "    xent_summary = tf.scalar_summary( 'xent', cross_entropy )\n",
    "\n",
    "    correct_prediction = tf.equal(tf.argmax(y_hat,1), tf.argmax(y_,1))\n",
    "    accuracy = tf.reduce_mean(tf.cast(correct_prediction, tf.float32))\n",
    "    acc_summary = tf.scalar_summary( 'accuracy', accuracy )\n",
    "\n",
    "    train_step = tf.train.AdamOptimizer(1e-4).minimize(cross_entropy)\n",
    "\n",
    "    #\n",
    "    # ==================================================================\n",
    "    #\n",
    "\n",
    "    keep_probs = [ 0.1, 0.25, 0.5, 0.75, 1.0 ]\n",
    "\n",
    "    train_acc = []\n",
    "    test_acc = []\n",
    "    sess = tf.Session()\n",
    "    for p in keep_probs:\n",
    "        sess.run(tf.initialize_all_variables())\n",
    "        # Train\n",
    "        for i in tqdm(range(1500)):\n",
    "            sess.run( train_step, feed_dict={ x: images, y_: labels, keep_probability: p, scale: p} )\n",
    "        # Record accuracy\n",
    "        t_acc = sess.run(accuracy, feed_dict={ x: images, y_: labels, keep_probability: 1.0, scale: p })\n",
    "        final_acc = sess.run( accuracy, feed_dict={ x: mnist.test.images, y_: mnist.test.labels, keep_probability: 1.0, scale: p } )\n",
    "        train_acc.append(t_acc)\n",
    "        test_acc.append(final_acc)\n",
    "    \n",
    "    return train_acc, test_acc\n",
    "\n",
    "train_acc, test_acc = run_dropconnect()"
   ]
  },
  {
   "cell_type": "code",
   "execution_count": 13,
   "metadata": {
    "collapsed": false
   },
   "outputs": [
    {
     "data": {
      "image/png": "[encoded data removed]",
      "text/plain": [
       "<matplotlib.figure.Figure at 0x119709050>"
      ]
     },
     "metadata": {},
     "output_type": "display_data"
    }
   ],
   "source": [
    "%matplotlib inline\n",
    "plot_accuracy(BASELINE_ACC, keep_probs, train_acc, test_acc, title=\"Dropconnect Plot\")"
   ]
  },
  {
   "cell_type": "markdown",
   "metadata": {},
   "source": [
    "###### L1 Regularization"
   ]
  },
  {
   "cell_type": "code",
   "execution_count": 14,
   "metadata": {
    "collapsed": false
   },
   "outputs": [
    {
     "name": "stderr",
     "output_type": "stream",
     "text": [
      "100%|██████████| 150/150 [01:29<00:00,  1.67it/s]\n",
      "100%|██████████| 150/150 [01:30<00:00,  1.64it/s]\n",
      "100%|██████████| 150/150 [01:32<00:00,  1.62it/s]\n"
     ]
    }
   ],
   "source": [
    "##### Reset the graph #####\n",
    "tf.reset_default_graph()\n",
    "\n",
    "_lambda = [0.1, 0.01, 0.001]\n",
    "\n",
    "def run_l1():\n",
    "    train_acc, test_acc = [], []\n",
    "    # Declare computation graph\n",
    "    y_ = tf.placeholder( tf.float32, shape=[None, 10], name=\"y_\" )\n",
    "    x = tf.placeholder( tf.float32, [None, 784], name=\"x\" )\n",
    "    lambda_ = tf.placeholder(tf.float32)\n",
    "\n",
    "    W1 = weight_variable([784, 500])\n",
    "    b1 = bias_variable([500])\n",
    "    h1_reg = tf.reduce_prod(tf.abs(W1)) + tf.reduce_prod(tf.abs(b1))\n",
    "    h1 = tf.nn.relu(tf.matmul( x, W1 ) + b1)\n",
    "\n",
    "    W2 = weight_variable([500, 500])\n",
    "    b2 = bias_variable([500])\n",
    "    h2_reg = h1_reg + tf.reduce_prod(tf.abs(W2)) + tf.reduce_prod(tf.abs(b2))\n",
    "    h2 = tf.nn.relu(tf.matmul( h1, W2 ) + b2)\n",
    "\n",
    "    W3 = weight_variable([500, 1000])\n",
    "    b3 = bias_variable([1000])\n",
    "    h3_reg = h2_reg + tf.reduce_prod(tf.abs(W3)) + tf.reduce_prod(tf.abs(b3))\n",
    "    h3 = tf.nn.relu(tf.matmul( h2, W3 ) + b3)\n",
    "\n",
    "    W4 = weight_variable([1000, 10])\n",
    "    b4 = bias_variable([10])\n",
    "    final_reg = h3_reg + tf.reduce_prod(tf.abs(W4)) + tf.reduce_prod(tf.abs(b4))\n",
    "    y_hat = tf.nn.softmax(tf.matmul(h3, W4) + b4)\n",
    "\n",
    "    cross_entropy = tf.reduce_mean(-tf.reduce_sum(y_ * tf.log(y_hat), reduction_indices=[1]))\n",
    "    regularized_ce = cross_entropy + lambda_ * final_reg\n",
    "    xent_summary = tf.scalar_summary( 'xent', cross_entropy )\n",
    "    reg_ce_summary = tf.scalar_summary( 'reg_ce', regularized_ce )\n",
    "\n",
    "    correct_prediction = tf.equal(tf.argmax(y_hat,1), tf.argmax(y_,1))\n",
    "    accuracy = tf.reduce_mean(tf.cast(correct_prediction, tf.float32))\n",
    "    acc_summary = tf.scalar_summary( 'accuracy', accuracy )\n",
    "\n",
    "    train_step = tf.train.AdamOptimizer(1e-4).minimize(regularized_ce)\n",
    "\n",
    "    \n",
    "    sess = tf.Session()\n",
    "    for l in _lambda:\n",
    "        sess.run(tf.initialize_all_variables())\n",
    "        for _ in tqdm(range(150)):\n",
    "            sess.run(train_step, feed_dict={ x: images, y_: labels, lambda_: l } )\n",
    "\n",
    "        t_acc = sess.run(accuracy, feed_dict={ x: images, y_: labels, lambda_: l })\n",
    "        final_acc = sess.run( accuracy, feed_dict={ x: mnist.test.images, y_: mnist.test.labels, lambda_: l } )\n",
    "        train_acc.append(t_acc)\n",
    "        test_acc.append(final_acc)\n",
    "        \n",
    "    return train_acc, test_acc\n",
    "        \n",
    "train_acc, test_acc = run_l1()"
   ]
  },
  {
   "cell_type": "code",
   "execution_count": 15,
   "metadata": {
    "collapsed": false
   },
   "outputs": [
    {
     "data": {
      "image/png": "[encoded data removed]",
      "text/plain": [
       "<matplotlib.figure.Figure at 0x119a5c790>"
      ]
     },
     "metadata": {},
     "output_type": "display_data"
    }
   ],
   "source": [
    "%matplotlib inline\n",
    "plot_accuracy(BASELINE_ACC, _lambda, train_acc, test_acc, title=\"L1 Regularization Plot\", xlabel=\"Lambda Value\")"
   ]
  }
 ],
 "metadata": {
  "anaconda-cloud": {},
  "kernelspec": {
   "display_name": "Python [Root]",
   "language": "python",
   "name": "Python [Root]"
  },
  "language_info": {
   "codemirror_mode": {
    "name": "ipython",
    "version": 2
   },
   "file_extension": ".py",
   "mimetype": "text/x-python",
   "name": "python",
   "nbconvert_exporter": "python",
   "pygments_lexer": "ipython2",
   "version": "2.7.12"
  }
 },
 "nbformat": 4,
 "nbformat_minor": 0
}
