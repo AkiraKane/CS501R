{
 "cells": [
  {
   "cell_type": "markdown",
   "metadata": {},
   "source": [
    "#### Artem Golotin\n",
    "CS501R Lab 4"
   ]
  },
  {
   "cell_type": "code",
   "execution_count": 1,
   "metadata": {
    "collapsed": false
   },
   "outputs": [
    {
     "name": "stderr",
     "output_type": "stream",
     "text": [
      "100%|██████████| 2000/2000 [02:09<00:00, 16.46it/s]\n"
     ]
    }
   ],
   "source": [
    "from pdb import set_trace as debugger\n",
    "from tqdm import tqdm\n",
    "from math import log, exp\n",
    "import autograd.numpy as np\n",
    "from autograd import grad\n",
    "\n",
    "def unpickle( file ):\n",
    "    import cPickle\n",
    "    fo = open(file, 'rb')\n",
    "    dict = cPickle.load(fo)\n",
    "    fo.close()\n",
    "    return dict\n",
    " \n",
    "data = unpickle( 'cifar-10-batches-py/data_batch_1' )\n",
    " \n",
    "features = data['data']\n",
    "labels = data['labels']\n",
    "labels = np.atleast_2d( labels ).T\n",
    "\n",
    "N = 1000\n",
    "D = 3072\n",
    " \n",
    "# only keep N items\n",
    "features = features[ 0:N, : ] \n",
    "labels = labels[ 0:N, : ]\n",
    " \n",
    "# whiten our data - zero mean and unit standard deviation\n",
    "features = (features - np.mean(features, axis=0)) / np.std(features, axis=0)\n",
    "\n",
    "W = np.random.randn(10, D)\n",
    "step_size = 0.1\n",
    "\n",
    "def accuracy(_w):\n",
    "    predictions = np.argmax(np.dot(features, _w.T), axis=1).reshape(N, 1)\n",
    "    return ((predictions == labels).sum()) / float(N)\n",
    "\n",
    "def softmax_loss_function(_w):\n",
    "    scores = np.dot(features, _w.T)\n",
    "    prob = scores[np.arange(N).reshape(N,1), labels]\n",
    "    return np.mean(-np.log(np.exp(prob) / np.sum(np.exp(scores), axis=1).reshape(N, 1)))\n",
    "\n",
    "# Define gradient function\n",
    "grad_f = grad(softmax_loss_function)\n",
    "\n",
    "total_losses = []\n",
    "total_accuracy = []\n",
    "for epoch in tqdm(xrange(2000)):\n",
    "    # Calculate the gradient\n",
    "    gradient = grad_f(W)\n",
    "    # Update weights\n",
    "    W += -step_size * gradient\n",
    "    # Calculate loss\n",
    "    loss = softmax_loss_function(W)\n",
    "    # Save loss to graph later\n",
    "    total_losses.append(loss)\n",
    "    # Calculate accuracy\n",
    "    total_accuracy.append(accuracy(W))"
   ]
  },
  {
   "cell_type": "code",
   "execution_count": 2,
   "metadata": {
    "collapsed": false
   },
   "outputs": [],
   "source": [
    "import matplotlib.pyplot as plt\n",
    "\n",
    "def plot_loss():\n",
    "    x = range(1,2001)\n",
    "    plt.plot(x, total_losses)\n",
    "    plt.ylabel(\"Cost Function (softmax)\")\n",
    "    plt.xlabel(\"Epoch\")\n",
    "    plt.show()\n",
    "    \n",
    "def plot_accuracy():\n",
    "    x = range(1,2001)\n",
    "    plt.plot(x, total_accuracy)\n",
    "    plt.ylabel(\"Classification Accuracy (%)\")\n",
    "    plt.xlabel(\"Epoch\")\n",
    "    plt.show()\n"
   ]
  },
  {
   "cell_type": "code",
   "execution_count": 3,
   "metadata": {
    "collapsed": false
   },
   "outputs": [
    {
     "data": {
      "image/png": "[encoded data removed]",
      "text/plain": [
       "<matplotlib.figure.Figure at 0x109cd0b90>"
      ]
     },
     "metadata": {},
     "output_type": "display_data"
    }
   ],
   "source": [
    "%matplotlib inline\n",
    "plot_loss()"
   ]
  },
  {
   "cell_type": "code",
   "execution_count": 4,
   "metadata": {
    "collapsed": false
   },
   "outputs": [
    {
     "data": {
      "image/png": "[encoded data removed]",
      "text/plain": [
       "<matplotlib.figure.Figure at 0x10bce4650>"
      ]
     },
     "metadata": {},
     "output_type": "display_data"
    }
   ],
   "source": [
    "%matplotlib inline\n",
    "plot_accuracy()"
   ]
  }
 ],
 "metadata": {
  "anaconda-cloud": {},
  "kernelspec": {
   "display_name": "Python [Root]",
   "language": "python",
   "name": "Python [Root]"
  },
  "language_info": {
   "codemirror_mode": {
    "name": "ipython",
    "version": 2
   },
   "file_extension": ".py",
   "mimetype": "text/x-python",
   "name": "python",
   "nbconvert_exporter": "python",
   "pygments_lexer": "ipython2",
   "version": "2.7.12"
  }
 },
 "nbformat": 4,
 "nbformat_minor": 0
}
