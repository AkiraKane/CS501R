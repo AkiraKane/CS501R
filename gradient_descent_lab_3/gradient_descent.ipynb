{
 "cells": [
  {
   "cell_type": "markdown",
   "metadata": {},
   "source": [
    "#### Author: Artem Golotin\n",
    "CS501R Lab 3"
   ]
  },
  {
   "cell_type": "code",
   "execution_count": 1,
   "metadata": {
    "collapsed": false
   },
   "outputs": [
    {
     "name": "stderr",
     "output_type": "stream",
     "text": [
      "100%|██████████| 1000/1000 [00:51<00:00, 21.72it/s]\n"
     ]
    }
   ],
   "source": [
    "from pdb import set_trace as debugger\n",
    "from tqdm import tqdm\n",
    "from math import log, exp\n",
    "import numpy as np\n",
    "import scipy\n",
    "\n",
    "def unpickle( file ):\n",
    "    import cPickle\n",
    "    fo = open(file, 'rb')\n",
    "    dict = cPickle.load(fo)\n",
    "    fo.close()\n",
    "    return dict\n",
    " \n",
    "data = unpickle( 'cifar-10-batches-py/data_batch_1' )\n",
    " \n",
    "features = data['data']\n",
    "labels = data['labels']\n",
    "labels = np.atleast_2d( labels ).T\n",
    " \n",
    "N = 1000\n",
    "D = 10\n",
    " \n",
    "# only keep N items\n",
    "features = features[ 0:N, : ] \n",
    "labels = labels[ 0:N, : ]\n",
    " \n",
    "# project down into a D-dimensional space\n",
    "features = np.dot( features, np.random.randn( 3072, D) )\n",
    " \n",
    "# whiten our data - zero mean and unit standard deviation\n",
    "features = (features - np.mean(features, axis=0)) / np.std(features, axis=0)\n",
    "\n",
    "W = np.random.randn(D, D)\n",
    "step_size = 0.1\n",
    "h = 0.000001\n",
    "\n",
    "def accuracy(_w):\n",
    "    predictions = np.argmax(features.dot(_w), axis=1).reshape(N, 1)\n",
    "    return ((predictions == labels).sum()) / float(N)\n",
    "\n",
    "def loss_function(_w):\n",
    "    scores = features.dot(_w)\n",
    "    prob = scores[np.arange(N).reshape(N,1), labels]\n",
    "    return np.mean(-np.log(np.exp(prob) / np.sum(np.exp(scores), axis=1).reshape(N, 1)))\n",
    "\n",
    "def evaluate_gradient(W, init_loss):\n",
    "    total_loss = np.zeros((D, D))\n",
    "    delta_gradient = np.zeros((D, D))\n",
    "    for dim in xrange(W.shape[0]):\n",
    "        for inst in xrange(W.shape[1]):\n",
    "            # Twiddle W by h\n",
    "            _w = W\n",
    "            _w[dim, inst] += h\n",
    "            # Compute the loss\n",
    "            Loss_i = loss_function(_w)\n",
    "            total_loss[dim, inst] = Loss_i\n",
    "            # Compute delta gradient\n",
    "            d_grad = (Loss_i - init_loss) / h\n",
    "            delta_gradient[dim, inst] = d_grad\n",
    "    return delta_gradient, np.mean(total_loss)        \n",
    "\n",
    "total_losses = []\n",
    "total_accuracy = []\n",
    "for epoch in tqdm(xrange(1000)):\n",
    "    # Calculate initial loss\n",
    "    init_loss = loss_function(W)\n",
    "    # Calculate the gradient and the total loss\n",
    "    gradient, loss = evaluate_gradient(W, init_loss)\n",
    "    # Update weights\n",
    "    W += -step_size * gradient\n",
    "    # Save loss to graph later\n",
    "    total_losses.append(loss)\n",
    "    # Calculate accuracy\n",
    "    total_accuracy.append(accuracy(W))"
   ]
  },
  {
   "cell_type": "code",
   "execution_count": 2,
   "metadata": {
    "collapsed": false
   },
   "outputs": [],
   "source": [
    "import matplotlib.pyplot as plt\n",
    "\n",
    "def plot_loss():\n",
    "    x = range(1,1001)\n",
    "    plt.plot(x, total_losses)\n",
    "    plt.title(\"Cost Function (softmax)\")\n",
    "    plt.xlabel(\"Epoch\")\n",
    "    plt.show()\n",
    "    \n",
    "def plot_accuracy():\n",
    "    x = range(1,1001)\n",
    "    plt.plot(x, total_accuracy)\n",
    "    plt.title(\"Classification Accuracy (%)\")\n",
    "    plt.xlabel(\"Epoch\")\n",
    "    plt.show()\n"
   ]
  },
  {
   "cell_type": "code",
   "execution_count": 3,
   "metadata": {
    "collapsed": false
   },
   "outputs": [
    {
     "data": {
      "image/png": "[encoded data removed]",
      "text/plain": [
       "<matplotlib.figure.Figure at 0x102dda390>"
      ]
     },
     "metadata": {},
     "output_type": "display_data"
    }
   ],
   "source": [
    "%matplotlib inline\n",
    "plot_loss()"
   ]
  },
  {
   "cell_type": "code",
   "execution_count": 4,
   "metadata": {
    "collapsed": false
   },
   "outputs": [
    {
     "data": {
      "image/png": "[encoded data removed]",
      "text/plain": [
       "<matplotlib.figure.Figure at 0x11186a250>"
      ]
     },
     "metadata": {},
     "output_type": "display_data"
    }
   ],
   "source": [
    "%matplotlib inline\n",
    "plot_accuracy()"
   ]
  }
 ],
 "metadata": {
  "anaconda-cloud": {},
  "kernelspec": {
   "display_name": "Python [Root]",
   "language": "python",
   "name": "Python [Root]"
  },
  "language_info": {
   "codemirror_mode": {
    "name": "ipython",
    "version": 2
   },
   "file_extension": ".py",
   "mimetype": "text/x-python",
   "name": "python",
   "nbconvert_exporter": "python",
   "pygments_lexer": "ipython2",
   "version": "2.7.12"
  }
 },
 "nbformat": 4,
 "nbformat_minor": 0
}
