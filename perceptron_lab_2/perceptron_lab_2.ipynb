{
 "cells": [
  {
   "cell_type": "code",
   "execution_count": 1,
   "metadata": {
    "collapsed": false
   },
   "outputs": [
    {
     "name": "stderr",
     "output_type": "stream",
     "text": [
      "100%|██████████| 100/100 [00:00<00:00, 338.20it/s]\n"
     ]
    }
   ],
   "source": [
    "from pdb import set_trace as debugger\n",
    "from tqdm import tqdm\n",
    "import numpy as np\n",
    "import pandas\n",
    "    \n",
    "def upload_cifar(filename):\n",
    "    import cPickle\n",
    "    fo = open(filename, 'rb')\n",
    "    data = cPickle.load(fo)\n",
    "    fo.close()\n",
    "\n",
    "    features = data['data']\n",
    "    labels = data['labels']\n",
    "    labels = np.atleast_2d( labels ).T \n",
    "    \n",
    "    # squash classes 0-4 into class 0, and squash classes 5-9 into class 1\n",
    "    labels[ labels < 5 ] = 0 \n",
    "    labels[ labels >= 5 ] = 1 \n",
    "    return features, labels\n",
    "\n",
    "def upload_iris(filename):\n",
    "    data = pandas.read_csv(filename)\n",
    "    m = data.as_matrix()\n",
    "    labels = m[:,0]\n",
    "    labels[ labels==2 ] = 1  # squash class 2 into class 1\n",
    "    labels = np.atleast_2d( labels ).T \n",
    "    features = m[:,1:5]\n",
    "    return features, labels\n",
    "\n",
    "class Perceptron:\n",
    "    \n",
    "    def __init__(self, features, labels, c = 1, theta = 0):\n",
    "        self.c = c\n",
    "        self.theta = theta\n",
    "        # Add a bias input into every instance\n",
    "        self.features = np.insert(features, features.shape[1], 1, axis=1)\n",
    "        self.labels = labels  \n",
    "        # Create a (1,n+1) matrix of weights, +1 for bias input\n",
    "        self._w = np.matrix(np.random.rand(features.shape[1] + 1))\n",
    "        \n",
    "    def run(self):\n",
    "        for _ in tqdm(xrange(100)):\n",
    "            for instance, label in zip(self.features, self.labels):\n",
    "                # Get our prediction \n",
    "                z_pred = int(self._w.dot(instance).item() > self.theta)\n",
    "                # Compare to label and adjust weights if necessary\n",
    "                if label.item() != z_pred:\n",
    "                    self.adjust_weights(label.item() - z_pred, instance)\n",
    "\n",
    "    def adjust_weights(self, learning_direction, instance):\n",
    "        weight_changes = np.multiply(instance, (self.c * learning_direction))\n",
    "        self._w = np.add(self._w, weight_changes)\n",
    "        \n",
    "        \n",
    "    def plot(self):\n",
    "        pass\n",
    "\n",
    "features, labels = upload_iris(\"Fisher.csv\")\n",
    "iris_perceptron = Perceptron(features, labels)\n",
    "iris_perceptron.run()\n",
    "\n",
    "#features, labels = upload_cifar('cifar-10-batches-py/data_batch_1')\n",
    "#cifar_perceptron = Perceptron(features, labels, c=0.001)\n",
    "#cifar_perceptron.run()\n"
   ]
  }
 ],
 "metadata": {
  "anaconda-cloud": {},
  "kernelspec": {
   "display_name": "Python [Root]",
   "language": "python",
   "name": "Python [Root]"
  },
  "language_info": {
   "codemirror_mode": {
    "name": "ipython",
    "version": 2
   },
   "file_extension": ".py",
   "mimetype": "text/x-python",
   "name": "python",
   "nbconvert_exporter": "python",
   "pygments_lexer": "ipython2",
   "version": "2.7.12"
  }
 },
 "nbformat": 4,
 "nbformat_minor": 0
}
