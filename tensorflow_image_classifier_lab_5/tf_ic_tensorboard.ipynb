{
 "cells": [
  {
   "cell_type": "markdown",
   "metadata": {},
   "source": [
    "#### Artem Golotin\n",
    "CS501R Lab 5b"
   ]
  },
  {
   "cell_type": "code",
   "execution_count": 1,
   "metadata": {
    "collapsed": false
   },
   "outputs": [
    {
     "name": "stdout",
     "output_type": "stream",
     "text": [
      "Extracting MNIST_data/train-images-idx3-ubyte.gz\n",
      "Extracting MNIST_data/train-labels-idx1-ubyte.gz\n",
      "Extracting MNIST_data/t10k-images-idx3-ubyte.gz\n",
      "Extracting MNIST_data/t10k-labels-idx1-ubyte.gz\n"
     ]
    }
   ],
   "source": [
    "import tensorflow as tf\n",
    "\n",
    "# Load MNIST dataset\n",
    "from tensorflow.examples.tutorials.mnist import input_data\n",
    "mnist = input_data.read_data_sets('MNIST_data', one_hot=True)\n",
    "\n",
    "# Placeholders for data\n",
    "I, O = 784, 10\n",
    "x = tf.placeholder(tf.float32, shape=[None, I], name='input')\n",
    "y_ = tf.placeholder(tf.float32, shape=[None, O], name='output')\n",
    "# Reshape the input image to match the first convolutional input dimentions\n",
    "x_image = tf.reshape(x, [-1,28,28,1]) # 28 - width, 28 - height, 1 - color channels\n",
    "\n",
    "### Convolutional and max pooling functions\n",
    "conv2d = lambda x, W: tf.nn.conv2d(x, W, strides=[1, 1, 1, 1], padding='SAME')\n",
    "max_pool_2x2 = lambda x: tf.nn.max_pool(x, ksize=[1, 2, 2, 1], strides=[1, 2, 2, 1], padding='SAME')\n",
    "\n",
    "with tf.name_scope('Wx_B'):\n",
    "    with tf.name_scope('hidden_layer_1'):\n",
    "        ### First convolutional layer\n",
    "        W_conv1 = tf.Variable(tf.truncated_normal([5, 5, 1, 32], stddev=0.1))\n",
    "        b_conv1 = tf.Variable(tf.constant(0.1, shape=[32]))\n",
    "        # Convolve x_image with the weight tensor + bias, apply ReLU and max pool\n",
    "        h_conv1 = conv2d(x_image, W_conv1) + b_conv1\n",
    "        h_relu1 = tf.nn.relu(h_conv1)\n",
    "        h_pool1 = max_pool_2x2(h_relu1)\n",
    "        # Interesting to see some histograms\n",
    "        tf.histogram_summary('hidden_layer_1/activations', h_pool1)\n",
    "\n",
    "    with tf.name_scope('hidden_layer_2'):\n",
    "        ### Second convolutional layer\n",
    "        W_conv2 = tf.Variable(tf.truncated_normal([5, 5, 32, 64], stddev=0.1))\n",
    "        b_conv2 = tf.Variable(tf.constant(0.1, shape=[64]))\n",
    "        # Convolve h_pool1 with the weight tensor + bias, apply ReLU and max pool\n",
    "        h_conv2 = conv2d(h_pool1, W_conv2) + b_conv2\n",
    "        h_relu2 = tf.nn.relu(h_conv2)\n",
    "        h_pool2 = max_pool_2x2(h_relu2)\n",
    "        # Interesting to see some historgrams\n",
    "        tf.histogram_summary('hidden_layer_2/activations', h_pool2)\n",
    "\n",
    "\n",
    "    with tf.name_scope('fully_connected_layer'):\n",
    "        with tf.name_scope('fc_1'):\n",
    "            # Flatten the last layer for a fully connected layer\n",
    "            h_pool2_flat = tf.reshape(h_pool2, [-1, 7*7*64])\n",
    "            ### Fully connected layer\n",
    "            W_fc1 = tf.Variable(tf.truncated_normal([7*7*64, 1024], stddev=0.1))\n",
    "            b_fc1 = tf.Variable(tf.constant(0.1, shape=[1024]))\n",
    "            h_fc1 = tf.nn.relu(tf.matmul(h_pool2_flat, W_fc1) + b_fc1)\n",
    "        \n",
    "        with tf.name_scope('dropout'):\n",
    "            ### Dropout layer to avoid overfitting and to calculate correct training accuracy\n",
    "            keep_prob = tf.placeholder(tf.float32)\n",
    "            tf.scalar_summary('dropout_keep_probability', keep_prob)\n",
    "            h_fc1_drop = tf.nn.dropout(h_fc1, keep_prob)\n",
    "            \n",
    "        with tf.name_scope('readout'):\n",
    "            ### Readout layer and final output\n",
    "            W_fc2 = tf.Variable(tf.truncated_normal([1024, 10], stddev=0.1))\n",
    "            b_fc2 = tf.Variable(tf.constant(0.1, shape=[10]))\n",
    "            # Compute final output\n",
    "            y_pred = tf.nn.softmax(tf.matmul(h_fc1_drop, W_fc2) + b_fc2, name='predictions')\n",
    "    "
   ]
  },
  {
   "cell_type": "code",
   "execution_count": 2,
   "metadata": {
    "collapsed": false
   },
   "outputs": [],
   "source": [
    "with tf.name_scope('cost'):\n",
    "    cross_entropy = tf.reduce_mean(-tf.reduce_sum(y_ * tf.log(y_pred), reduction_indices=[1]))\n",
    "tf.scalar_summary('cost', cross_entropy)\n",
    "    \n",
    "with tf.name_scope('optimizer'):\n",
    "    train_step = tf.train.AdamOptimizer(learning_rate=1e-4).minimize(cross_entropy)\n",
    "    \n",
    "with tf.name_scope('accuracy'):\n",
    "    with tf.name_scope('correct_prediction'):\n",
    "        correct_prediction = tf.equal(tf.argmax(y_pred,1), tf.argmax(y_,1))\n",
    "    with tf.name_scope('accuracy'):\n",
    "        accuracy = tf.reduce_mean(tf.cast(correct_prediction, tf.float32))\n",
    "    tf.scalar_summary('accuracy', accuracy)"
   ]
  },
  {
   "cell_type": "code",
   "execution_count": 3,
   "metadata": {
    "collapsed": false
   },
   "outputs": [
    {
     "name": "stderr",
     "output_type": "stream",
     "text": [
      "100%|██████████| 1500/1500 [50:53<00:00,  1.97s/it]\n"
     ]
    }
   ],
   "source": [
    "from tqdm import tqdm\n",
    "import numpy as np\n",
    "\n",
    "# Run the session\n",
    "with tf.Session() as sess:\n",
    "    merged = tf.merge_all_summaries()\n",
    "    summary_writer = tf.train.SummaryWriter('./tf_logs', graph=sess.graph)\n",
    "    sess.run(tf.initialize_all_variables())\n",
    "    for epoch in tqdm(range(1500)):\n",
    "        # Get next batch\n",
    "        batch_x, batch_y = mnist.train.next_batch(100)\n",
    "        if epoch % 10 == 0:\n",
    "            # Every 10 epochs write out the test set accuracy\n",
    "            summary, acc = sess.run([merged, accuracy], feed_dict={x: batch_x, y_: batch_y, keep_prob: 1.0})\n",
    "            summary_writer.add_summary(summary, epoch)\n",
    "        else:\n",
    "            # Add grayscale to make training more productive\n",
    "            grayscaled_x = np.apply_along_axis(np.subtract, 0, batch_x, np.average(batch_x, axis=1))\n",
    "            train_x, train_y = np.vstack((batch_x, grayscaled_x)), np.vstack((batch_y, batch_y))\n",
    "            # Train\n",
    "            summary, _ = sess.run([merged, train_step], feed_dict={x: train_x, y_: train_y, keep_prob: 0.8})\n",
    "            summary_writer.add_summary(summary, epoch)\n",
    "    # Flush out the summary writer and close it        \n",
    "    summary_writer.flush()\n",
    "    summary_writer.close()"
   ]
  }
 ],
 "metadata": {
  "anaconda-cloud": {},
  "kernelspec": {
   "display_name": "Python [Root]",
   "language": "python",
   "name": "Python [Root]"
  },
  "language_info": {
   "codemirror_mode": {
    "name": "ipython",
    "version": 2
   },
   "file_extension": ".py",
   "mimetype": "text/x-python",
   "name": "python",
   "nbconvert_exporter": "python",
   "pygments_lexer": "ipython2",
   "version": "2.7.12"
  }
 },
 "nbformat": 4,
 "nbformat_minor": 0
}
