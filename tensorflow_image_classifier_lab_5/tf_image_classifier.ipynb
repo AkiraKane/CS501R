{
 "cells": [
  {
   "cell_type": "markdown",
   "metadata": {},
   "source": [
    "#### Artem Golotin\n",
    "CS501R Lab 5"
   ]
  },
  {
   "cell_type": "code",
   "execution_count": 1,
   "metadata": {
    "collapsed": false
   },
   "outputs": [
    {
     "name": "stdout",
     "output_type": "stream",
     "text": [
      "Extracting MNIST_data/train-images-idx3-ubyte.gz\n",
      "Extracting MNIST_data/train-labels-idx1-ubyte.gz\n",
      "Extracting MNIST_data/t10k-images-idx3-ubyte.gz\n",
      "Extracting MNIST_data/t10k-labels-idx1-ubyte.gz\n"
     ]
    }
   ],
   "source": [
    "import tensorflow as tf\n",
    "\n",
    "# Load MNIST dataset\n",
    "from tensorflow.examples.tutorials.mnist import input_data\n",
    "mnist = input_data.read_data_sets('MNIST_data', one_hot=True)\n",
    "\n",
    "# Placeholders for data\n",
    "I, O = 784, 10\n",
    "x = tf.placeholder(tf.float32, shape=[None, I], name='input')\n",
    "y_ = tf.placeholder(tf.float32, shape=[None, O], name='output')\n",
    "# Reshape the input image to match the first convolutional input dimentions\n",
    "x_image = tf.reshape(x, [-1,28,28,1]) # 28 - width, 28 - height, 1 - color channels\n",
    "\n",
    "\n",
    "### Convolutional and max pooling functions\n",
    "conv2d = lambda x, W: tf.nn.conv2d(x, W, strides=[1, 1, 1, 1], padding='SAME')\n",
    "max_pool_2x2 = lambda x: tf.nn.max_pool(x, ksize=[1, 2, 2, 1], strides=[1, 2, 2, 1], padding='SAME')\n",
    "\n",
    "### First convolutional layer\n",
    "W_conv1 = tf.Variable(tf.truncated_normal([5, 5, 1, 32], stddev=0.1))\n",
    "b_conv1 = tf.Variable(tf.constant(0.1, shape=[32]))\n",
    "\n",
    "# Convolve x_image with the weight tensor + bias, normalize the batch, apply ReLU and max pool\n",
    "h_conv1 = conv2d(x_image, W_conv1) + b_conv1\n",
    "h_mean1, h_var1 = tf.nn.moments(h_conv1, [0, 1, 2, 3])\n",
    "h_norm1 = tf.nn.batch_normalization(h_conv1, h_mean1, h_var1, None, None, variance_epsilon=1e-3)\n",
    "h_relu1 = tf.nn.relu(h_norm1)\n",
    "h_pool1 = max_pool_2x2(h_relu1)\n",
    "\n",
    "### Second convolutional layer\n",
    "W_conv2 = tf.Variable(tf.truncated_normal([5, 5, 32, 64], stddev=0.1))\n",
    "b_conv2 = tf.Variable(tf.constant(0.1, shape=[64]))\n",
    "\n",
    "# Convolve x_image with the weight tensor + bias, normalize the batch, apply ReLU and max pool\n",
    "h_conv2 = conv2d(h_pool1, W_conv2) + b_conv2\n",
    "h_mean2, h_var2 = tf.nn.moments(h_conv2, [0, 1, 2, 3])\n",
    "h_norm2 = tf.nn.batch_normalization(h_conv2, h_mean2, h_var2, None, None, variance_epsilon=1e-3)\n",
    "h_relu2 = tf.nn.relu(h_norm2)\n",
    "h_pool2 = max_pool_2x2(h_relu2)\n",
    "\n",
    "### Fully connected layer\n",
    "W_fc1 = tf.Variable(tf.truncated_normal([7*7*64, 1024], stddev=0.1))\n",
    "b_fc1 = tf.Variable(tf.constant(0.1, shape=[1024]))\n",
    "# Reshape the tensor from last pooling layer to a batch of vectors\n",
    "h_pool2_flat = tf.reshape(h_pool2, [-1, 7*7*64])\n",
    "h_fc1 = tf.nn.relu(tf.matmul(h_pool2_flat, W_fc1) + b_fc1)\n",
    "\n",
    "### Dropout layer to avoid overfitting and to calculate correct training accuracy\n",
    "keep_prob = tf.placeholder(tf.float32)\n",
    "h_fc1_drop = tf.nn.dropout(h_fc1, keep_prob)\n",
    "\n",
    "### Readout layer and final output\n",
    "W_fc2 = tf.Variable(tf.truncated_normal([1024, 10], stddev=0.1))\n",
    "b_fc2 = tf.Variable(tf.constant(0.1, shape=[10]))\n",
    "# Compute final output\n",
    "y_pred = tf.nn.softmax(tf.matmul(h_fc1_drop, W_fc2) + b_fc2)"
   ]
  },
  {
   "cell_type": "code",
   "execution_count": 2,
   "metadata": {
    "collapsed": false
   },
   "outputs": [],
   "source": [
    "# Loss\n",
    "cross_entropy = tf.reduce_mean(-tf.reduce_sum(y_ * tf.log(y_pred), reduction_indices=[1]))\n",
    "# Train\n",
    "train_step = tf.train.AdamOptimizer(learning_rate=1e-4, epsilon=1e-4).minimize(cross_entropy)\n",
    "\n",
    "# Accuracy calculation\n",
    "correct_prediction = tf.equal(tf.argmax(y_pred,1), tf.argmax(y_,1))\n",
    "accuracy = tf.reduce_mean(tf.cast(correct_prediction, tf.float32))"
   ]
  },
  {
   "cell_type": "code",
   "execution_count": 3,
   "metadata": {
    "collapsed": false
   },
   "outputs": [
    {
     "name": "stderr",
     "output_type": "stream",
     "text": [
      "100%|██████████| 501/501 [1:26:52<00:00, 16.48s/it]\n"
     ]
    }
   ],
   "source": [
    "from tqdm import tqdm\n",
    "import numpy as np\n",
    "\n",
    "accuracies = []\n",
    "# Run the session\n",
    "with tf.Session() as sess:\n",
    "    sess.run(tf.initialize_all_variables())\n",
    "    \n",
    "    for epoch in tqdm(range(501)):\n",
    "        # Get next batch\n",
    "        batch_x, batch_y = mnist.train.next_batch(50)\n",
    "        grayscaled_x = np.apply_along_axis(np.subtract, 0, batch_x, np.average(batch_x, axis=1))\n",
    "        train_x, train_y = np.vstack((batch_x, grayscaled_x)), np.vstack((batch_y, batch_y))\n",
    "        # Train\n",
    "        sess.run(train_step, feed_dict={x: train_x, y_: train_y, keep_prob: 0.5})\n",
    "        # Get accuracy every 5 epochs (it's sooooo slow on CPU)\n",
    "        if epoch % 5 == 0:\n",
    "            train_accuracy = sess.run(accuracy, feed_dict={x: mnist.test.images, y_: mnist.test.labels, keep_prob: 1.0})\n",
    "            accuracies.append(train_accuracy)\n"
   ]
  },
  {
   "cell_type": "code",
   "execution_count": 8,
   "metadata": {
    "collapsed": false
   },
   "outputs": [],
   "source": [
    "import matplotlib.pyplot as plt\n",
    "\n",
    "def plot_accuracy():\n",
    "    x = range(0, 501, 5)\n",
    "    plt.axhline(y=0.9, color='r', ls='dashed', label='90% Cutoff')\n",
    "    plt.plot(x, accuracies)\n",
    "    plt.ylabel(\"Classification Accuracy (%)\")\n",
    "    plt.xlabel(\"Epoch\")\n",
    "    plt.legend(loc='best')\n",
    "    plt.show()\n"
   ]
  },
  {
   "cell_type": "code",
   "execution_count": 9,
   "metadata": {
    "collapsed": false
   },
   "outputs": [
    {
     "data": {
      "image/png": "[encoded data removed]",
      "text/plain": [
       "<matplotlib.figure.Figure at 0x11a056e90>"
      ]
     },
     "metadata": {},
     "output_type": "display_data"
    }
   ],
   "source": [
    "%matplotlib inline\n",
    "plot_accuracy()"
   ]
  }
 ],
 "metadata": {
  "anaconda-cloud": {},
  "kernelspec": {
   "display_name": "Python [Root]",
   "language": "python",
   "name": "Python [Root]"
  },
  "language_info": {
   "codemirror_mode": {
    "name": "ipython",
    "version": 2
   },
   "file_extension": ".py",
   "mimetype": "text/x-python",
   "name": "python",
   "nbconvert_exporter": "python",
   "pygments_lexer": "ipython2",
   "version": "2.7.12"
  }
 },
 "nbformat": 4,
 "nbformat_minor": 0
}
